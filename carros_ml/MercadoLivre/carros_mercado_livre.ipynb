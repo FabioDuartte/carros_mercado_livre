{
 "cells": [
  {
   "cell_type": "code",
   "execution_count": 1,
   "id": "45ddb5bd",
   "metadata": {},
   "outputs": [
    {
     "name": "stdout",
     "output_type": "stream",
     "text": [
      "Requirement already satisfied: unidecode in c:\\users\\sharkoon\\appdata\\local\\programs\\python\\python37\\lib\\site-packages (1.3.6)\n"
     ]
    },
    {
     "name": "stderr",
     "output_type": "stream",
     "text": [
      "\n",
      "[notice] A new release of pip is available: 23.0.1 -> 23.1.2\n",
      "[notice] To update, run: python.exe -m pip install --upgrade pip\n"
     ]
    }
   ],
   "source": [
    "!pip install unidecode\n"
   ]
  },
  {
   "cell_type": "code",
   "execution_count": 19,
   "id": "5aba4978",
   "metadata": {
    "scrolled": true
   },
   "outputs": [],
   "source": [
    "import pandas as pd\n",
    "import numpy as np\n",
    "import json\n",
    "import re\n",
    "import unidecode\n",
    "\n",
    "pd.options.display.float_format = '{:.1f}'.format\n",
    "\n",
    "# Transformando o JSON em DataFrame\n",
    "with open('dados/lista_carros.json', 'r', encoding='utf-8') as f:\n",
    "    data = json.load(f)\n",
    "\n",
    "df = pd.json_normalize(data)\n",
    "\n",
    "# Removendo os '.' p\n",
    "df['price'] = df['price'].apply(lambda x: x.replace('.', '').strip()).astype('float64')\n",
    "\n",
    "\n",
    "# Adicionando as colunas e preenchendo com False\n",
    "df['Com IPVA pago'] = df['services'].apply(lambda x: 'Com IPVA pago' in x)\n",
    "df['Aceita troca'] = df['services'].apply(lambda x: 'Aceita troca' in x)\n",
    "df['Entrega a domicílio'] = df['services'].apply(lambda x: 'Entrega a domicílio' in x)\n",
    "df['Único dono'] = df['services'].apply(lambda x: 'Único dono' in x)\n",
    "df['Com preço negociável'] = df['services'].apply(lambda x: 'Com preço negociável' in x)\n",
    "df['Higienização completa'] = df['services'].apply(lambda x: 'Higienização completa' in x)\n",
    "df['Não aceita troca'] = df['services'].apply(lambda x: 'Não aceita troca' in x)\n",
    "df['Com garantia mecânica'] = df['services'].apply(lambda x: 'Com garantia mecânica' in x)\n",
    "df['Test drive a domicilio'] = df['services'].apply(lambda x: 'Test drive a domicilio' in x)\n",
    "\n",
    "# Inserindo as novas colunas e os valores\n",
    "df['Marca'] = ''\n",
    "df['Modelo'] = ''\n",
    "df['Ano'] = ''\n",
    "df['Versão'] = ''\n",
    "df['Cor'] = ''\n",
    "df['Tipo de combustível'] = ''\n",
    "df['Motor'] = ''\n",
    "df['Tipo de carroceria'] = ''\n",
    "df['Quilometros'] = ''\n",
    "\n",
    "for i, row in df.iterrows():\n",
    "    response_details = row['response_details']\n",
    "    if len(response_details) >= 9:\n",
    "        df.at[i, 'Marca'] = response_details[0]\n",
    "        df.at[i, 'Modelo'] = response_details[1]\n",
    "        df.at[i, 'Ano'] = response_details[2]\n",
    "        df.at[i, 'Versão'] = response_details[3]\n",
    "        df.at[i, 'Cor'] = response_details[4]\n",
    "        df.at[i, 'Tipo de combustível'] = response_details[5]\n",
    "        df.at[i, 'Motor'] = response_details[6]\n",
    "        df.at[i, 'Tipo de carroceria'] = response_details[7]\n",
    "        df.at[i, 'Quilometros'] = response_details[8]\n",
    "\n",
    "# Excluindo as colunas \"name\", \"services\" e \"details\" e \"response_details\"\n",
    "df = df.drop(['name', 'services', 'details', 'response_details'], axis=1)"
   ]
  },
  {
   "cell_type": "code",
   "execution_count": 20,
   "id": "886ba134",
   "metadata": {},
   "outputs": [],
   "source": [
    "filtro_km = r'^\\d+ km$'\n",
    "\n",
    "# remover valores que não correspondem ao padrão de quilometragem\n",
    "df['Quilometros'] = df['Quilometros'].apply(lambda x: x if re.match(filtro_km, str(x)) else np.nan)\n",
    "\n",
    "# converter a coluna 'Quilometros' para float64\n",
    "df['Quilometros'] = df['Quilometros'].str.replace(' km', '').astype('float64')\n",
    "\n",
    "# preencher valores vazios com a mediana da coluna 'Quilometros'\n",
    "mediana = df['Quilometros'].median()\n",
    "df['Quilometros'] = df['Quilometros'].fillna(mediana)\n"
   ]
  },
  {
   "cell_type": "code",
   "execution_count": 21,
   "id": "a7da2872",
   "metadata": {},
   "outputs": [],
   "source": [
    "# Removendo os dados que não pertencem a Cor no dataframe\n",
    "df = df[~df['Cor'].isin(['OUTRO', 'Gasolina e álcool', 'Diesel'])]\n"
   ]
  },
  {
   "cell_type": "code",
   "execution_count": 22,
   "id": "626c2133",
   "metadata": {},
   "outputs": [],
   "source": [
    "# Removendo os dados que não pertencem a tipo de combustível\n",
    "df = df[~df['Tipo de combustível'].isin(['4', '5', '2', '3','Híbrido/Gasolina', 'Gasolina e Elétrico (híbrido)', 'FLEX'])]"
   ]
  },
  {
   "cell_type": "code",
   "execution_count": 23,
   "id": "bf6fc200",
   "metadata": {},
   "outputs": [],
   "source": [
    "# Crie uma coluna 'Portas' e transfira os dados da coluna 'Motor' para ela\n",
    "df['Portas'] = df['Motor']\n"
   ]
  },
  {
   "cell_type": "code",
   "execution_count": 24,
   "id": "4f2b7850",
   "metadata": {},
   "outputs": [],
   "source": [
    "df = df[~df['Tipo de carroceria'].isin(['1.6', '3.0', '1.0 tgdi', '2.3 bi turbo', 'SUV', 'Hatch' ])]"
   ]
  },
  {
   "cell_type": "code",
   "execution_count": 25,
   "id": "697e5762",
   "metadata": {},
   "outputs": [
    {
     "data": {
      "text/plain": [
       "array(['Automática', 'Manual', '', 'Semiautomática',\n",
       "       'Automática sequencial', 'CÂMBIO AUTOMÁTICO', 'AUTOMÁTICO'],\n",
       "      dtype=object)"
      ]
     },
     "execution_count": 25,
     "metadata": {},
     "output_type": "execute_result"
    }
   ],
   "source": [
    "df['Tipo de carroceria'].unique()"
   ]
  },
  {
   "cell_type": "code",
   "execution_count": 26,
   "id": "8ecd15c7",
   "metadata": {},
   "outputs": [],
   "source": [
    "df['Tipo de carroceria'] = df['Tipo de carroceria'].apply(lambda x: x.replace('CÂMBIO AUTOMÁTICO', 'Automática').strip())\n",
    "df['Tipo de carroceria'] = df['Tipo de carroceria'].apply(lambda x: x.replace('AUTOMÁTICO', 'Automática').strip())"
   ]
  },
  {
   "cell_type": "code",
   "execution_count": 27,
   "id": "0983a25e",
   "metadata": {},
   "outputs": [],
   "source": [
    "df = df.rename(columns={'Tipo de carroceria': 'Tipo de transmissão'})\n"
   ]
  },
  {
   "cell_type": "code",
   "execution_count": 28,
   "id": "aeb809b6",
   "metadata": {},
   "outputs": [],
   "source": [
    "# Limpar a coluna df['Motor']\n",
    "df['Motor'] = df['Motor'].str.strip()\n",
    "\n",
    "# Extrair valores numéricos da coluna df['Tipo de carroceria'] e armazená-los na coluna df['Motor']\n",
    "df['Motor'] = df['Versão'].str.extract(r'([\\d\\.]+)').fillna('').astype(str)\n"
   ]
  },
  {
   "cell_type": "code",
   "execution_count": 29,
   "id": "87bfcd89",
   "metadata": {},
   "outputs": [],
   "source": [
    "df = df.drop(\"Versão\", axis=1)"
   ]
  },
  {
   "cell_type": "code",
   "execution_count": 30,
   "id": "eb9e6617",
   "metadata": {},
   "outputs": [],
   "source": [
    "# pd.options.display.float_format = '{:.2f}'.format\n",
    "df['Motor'] = pd.to_numeric(df['Motor'], errors='coerce')\n",
    "df['Motor'] = df['Motor'][~np.isnan(df['Motor'])]\n",
    "df['Motor'] = [format(x, '.1f') for x in df['Motor'].astype(float)]\n"
   ]
  },
  {
   "cell_type": "code",
   "execution_count": 31,
   "id": "e4b85513",
   "metadata": {},
   "outputs": [],
   "source": [
    "df = df[~df['Motor'].isin(['1500.0', '200.0','208.0','2500.0', '35150.0', '35.0', '0.0', '2021.0',\n",
    "       '417.0','430.0', '180.0', '75.0', '12.0', '270.0','16.0', '2018.0',\n",
    "       '250.0', '320.0','307.0', 'nan'])]\n",
    "\n"
   ]
  },
  {
   "cell_type": "code",
   "execution_count": 42,
   "id": "8f1f590f",
   "metadata": {},
   "outputs": [],
   "source": [
    "df['modelo'] = df['modelo'].apply(lambda x: x.replace('GOL MC4 _4P_', 'Gol MC4').strip())\n",
    "df['modelo'] = df['modelo'].apply(lambda x: x.replace('TORO RANCH 2.0 16V 4X4 DIESEL ATU.', 'Toro Ranch').strip())\n",
    "df['modelo'] = df['modelo'].apply(lambda x: x.replace('TRACKER PREMIER 1.2 TURBO 12V FLEX AUT.', 'Tracker Premier').strip())\n",
    "df['modelo'] = df['modelo'].apply(lambda x: x.replace('TRACKER PREMIER 1.2 TURBO 12V FLEX AUT', 'Tracker Premier').strip())\n",
    "df['modelo'] = df['modelo'].apply(lambda x: x.replace('XE 2.0 TURBOCHARGED PURE 240CV AUT', 'XE').strip())\n",
    "df['modelo'] = df['modelo'].apply(lambda x: x.replace('LOGAN EXPRESSION SCE _4P_', 'Logan Expression').strip())\n",
    "df['modelo'] = df['modelo'].apply(lambda x: x.replace('PALIO 1.0 ECONOMY FIRE FLEX 8V 4P', 'Palio').strip())\n",
    "df['modelo'] = df['modelo'].apply(lambda x: x.replace('TORO RANCH 2.0 16V 4X4 DIESEL AUT.', 'Toro Ranch').strip())\n",
    "df['modelo'] = df['modelo'].apply(lambda x: x.replace('CR-V LX 2.0 AUT', 'CR-V LX').strip())\n",
    "df['modelo'] = df['modelo'].apply(lambda x: x.replace('SIENA ESSENCE 1.6 16V FLEX MEC.', 'Siena Essence').strip())\n",
    "df['modelo'] = df['modelo'].apply(lambda x: x.replace('COROLLA CROSS XRE 2.0', 'Corolla Cross').strip())\n",
    "df['modelo'] = df['modelo'].apply(lambda x: x.replace('LIVINA XGEAR 1.8 AUT', 'Livina XGEAR').strip())\n",
    "df['modelo'] = df['modelo'].apply(lambda x: x.replace('HR-V EX 1.8 FLEXONE 16V 5P AUT', 'HR-V EX').strip())\n",
    "df['modelo'] = df['modelo'].apply(lambda x: x.replace('DUSTER 1.6 EXPRESSION', 'DUSTER EXPRESSION').strip())\n",
    "df['modelo'] = df['modelo'].apply(lambda x: x.replace('ECOSPORT TIT AT 2.0', 'Ecosport TIT').strip())\n",
    "df['modelo'] = df['modelo'].apply(lambda x: x.replace('FUSION 2.0 TITANIUM AWD 16V GASOLINA 4P AUTOMÁTICO', 'Fusion').strip())\n",
    "df['modelo'] = df['modelo'].apply(lambda x: x.replace('SENTRA SV 2.0 FLEX 16V AUT.', 'Sentra SV').strip())\n",
    "df['modelo'] = df['modelo'].apply(lambda x: x.replace('CRETA 1.6 16V FLEX ATTITUDE AUT', 'Creta').strip())\n",
    "df['modelo'] = df['modelo'].apply(lambda x: x.replace('GRAND SIENA 1.0 EVO FLEX ATTRACTIVE MANUAL', 'Grand Siena').strip())\n",
    "df['modelo'] = df['modelo'].apply(lambda x: x.replace('WRANGLER SPT 3.6L', 'WRANGLER SPT').strip())\n",
    "df['modelo'] = df['modelo'].apply(lambda x: x.replace('ONIX 1.4MT LTZ', 'Onix').strip())\n",
    "df['modelo'] = df['modelo'].apply(lambda x: x.replace('TIIDA 1.8 SL', 'TIIDA').strip())\n",
    "df['modelo'] = df['modelo'].apply(lambda x: x.replace('VERSA 1.6 16V FLEX SL 4P MANUAL', 'Versa').strip())\n",
    "df['modelo'] = df['modelo'].apply(lambda x: x.replace('FOX 1.0 8V (G2) 4P', 'Fox').strip())\n",
    "df['modelo'] = df['modelo'].apply(lambda x: x.replace('LOGAN EXPRESSION SCE _4P_P', 'Logan Expression').strip())"
   ]
  },
  {
   "cell_type": "code",
   "execution_count": 43,
   "id": "369b2300",
   "metadata": {},
   "outputs": [],
   "source": [
    "df.columns = [unidecode.unidecode(col).lower().replace(' ', '_') for col in df.columns]\n",
    "\n"
   ]
  },
  {
   "cell_type": "code",
   "execution_count": 44,
   "id": "e6108fc8",
   "metadata": {
    "scrolled": false
   },
   "outputs": [
    {
     "data": {
      "text/html": [
       "<div>\n",
       "<style scoped>\n",
       "    .dataframe tbody tr th:only-of-type {\n",
       "        vertical-align: middle;\n",
       "    }\n",
       "\n",
       "    .dataframe tbody tr th {\n",
       "        vertical-align: top;\n",
       "    }\n",
       "\n",
       "    .dataframe thead th {\n",
       "        text-align: right;\n",
       "    }\n",
       "</style>\n",
       "<table border=\"1\" class=\"dataframe\">\n",
       "  <thead>\n",
       "    <tr style=\"text-align: right;\">\n",
       "      <th></th>\n",
       "      <th>price</th>\n",
       "      <th>com_ipva_pago</th>\n",
       "      <th>aceita_troca</th>\n",
       "      <th>entrega_a_domicilio</th>\n",
       "      <th>unico_dono</th>\n",
       "      <th>com_preco_negociavel</th>\n",
       "      <th>higienizacao_completa</th>\n",
       "      <th>nao_aceita_troca</th>\n",
       "      <th>com_garantia_mecanica</th>\n",
       "      <th>test_drive_a_domicilio</th>\n",
       "      <th>marca</th>\n",
       "      <th>modelo</th>\n",
       "      <th>ano</th>\n",
       "      <th>cor</th>\n",
       "      <th>tipo_de_combustivel</th>\n",
       "      <th>motor</th>\n",
       "      <th>tipo_de_transmissao</th>\n",
       "      <th>quilometros</th>\n",
       "      <th>portas</th>\n",
       "    </tr>\n",
       "  </thead>\n",
       "  <tbody>\n",
       "    <tr>\n",
       "      <th>0</th>\n",
       "      <td>156990.0</td>\n",
       "      <td>True</td>\n",
       "      <td>True</td>\n",
       "      <td>False</td>\n",
       "      <td>False</td>\n",
       "      <td>False</td>\n",
       "      <td>False</td>\n",
       "      <td>False</td>\n",
       "      <td>False</td>\n",
       "      <td>False</td>\n",
       "      <td>Hyundai</td>\n",
       "      <td>Tucson</td>\n",
       "      <td>2020</td>\n",
       "      <td>Branco</td>\n",
       "      <td>Gasolina</td>\n",
       "      <td>1.6</td>\n",
       "      <td>Automática</td>\n",
       "      <td>35000</td>\n",
       "      <td>4</td>\n",
       "    </tr>\n",
       "    <tr>\n",
       "      <th>1</th>\n",
       "      <td>85990.0</td>\n",
       "      <td>False</td>\n",
       "      <td>True</td>\n",
       "      <td>False</td>\n",
       "      <td>False</td>\n",
       "      <td>False</td>\n",
       "      <td>True</td>\n",
       "      <td>False</td>\n",
       "      <td>False</td>\n",
       "      <td>False</td>\n",
       "      <td>Chevrolet</td>\n",
       "      <td>Onix</td>\n",
       "      <td>2023</td>\n",
       "      <td>Cinza-escuro</td>\n",
       "      <td>Gasolina e álcool</td>\n",
       "      <td>1.0</td>\n",
       "      <td>Manual</td>\n",
       "      <td>65000</td>\n",
       "      <td>4</td>\n",
       "    </tr>\n",
       "    <tr>\n",
       "      <th>2</th>\n",
       "      <td>53990.0</td>\n",
       "      <td>False</td>\n",
       "      <td>True</td>\n",
       "      <td>False</td>\n",
       "      <td>False</td>\n",
       "      <td>False</td>\n",
       "      <td>False</td>\n",
       "      <td>False</td>\n",
       "      <td>False</td>\n",
       "      <td>False</td>\n",
       "      <td>Ford</td>\n",
       "      <td>Ka</td>\n",
       "      <td>2018</td>\n",
       "      <td>Branco</td>\n",
       "      <td>Gasolina e álcool</td>\n",
       "      <td>1.0</td>\n",
       "      <td>Manual</td>\n",
       "      <td>65000</td>\n",
       "      <td>4</td>\n",
       "    </tr>\n",
       "    <tr>\n",
       "      <th>4</th>\n",
       "      <td>85990.0</td>\n",
       "      <td>False</td>\n",
       "      <td>True</td>\n",
       "      <td>False</td>\n",
       "      <td>False</td>\n",
       "      <td>False</td>\n",
       "      <td>True</td>\n",
       "      <td>False</td>\n",
       "      <td>False</td>\n",
       "      <td>False</td>\n",
       "      <td>Jeep</td>\n",
       "      <td>Renegade</td>\n",
       "      <td>2018</td>\n",
       "      <td>Cinza-escuro</td>\n",
       "      <td>Gasolina e álcool</td>\n",
       "      <td>1.8</td>\n",
       "      <td>Automática</td>\n",
       "      <td>65000</td>\n",
       "      <td>4</td>\n",
       "    </tr>\n",
       "    <tr>\n",
       "      <th>5</th>\n",
       "      <td>103890.0</td>\n",
       "      <td>False</td>\n",
       "      <td>True</td>\n",
       "      <td>False</td>\n",
       "      <td>False</td>\n",
       "      <td>False</td>\n",
       "      <td>False</td>\n",
       "      <td>False</td>\n",
       "      <td>False</td>\n",
       "      <td>False</td>\n",
       "      <td>Jeep</td>\n",
       "      <td>Compass</td>\n",
       "      <td>2017</td>\n",
       "      <td>Prateado</td>\n",
       "      <td>Gasolina e álcool</td>\n",
       "      <td>2.0</td>\n",
       "      <td>Automática</td>\n",
       "      <td>65000</td>\n",
       "      <td>4</td>\n",
       "    </tr>\n",
       "    <tr>\n",
       "      <th>...</th>\n",
       "      <td>...</td>\n",
       "      <td>...</td>\n",
       "      <td>...</td>\n",
       "      <td>...</td>\n",
       "      <td>...</td>\n",
       "      <td>...</td>\n",
       "      <td>...</td>\n",
       "      <td>...</td>\n",
       "      <td>...</td>\n",
       "      <td>...</td>\n",
       "      <td>...</td>\n",
       "      <td>...</td>\n",
       "      <td>...</td>\n",
       "      <td>...</td>\n",
       "      <td>...</td>\n",
       "      <td>...</td>\n",
       "      <td>...</td>\n",
       "      <td>...</td>\n",
       "      <td>...</td>\n",
       "    </tr>\n",
       "    <tr>\n",
       "      <th>2009</th>\n",
       "      <td>66990.0</td>\n",
       "      <td>True</td>\n",
       "      <td>True</td>\n",
       "      <td>False</td>\n",
       "      <td>False</td>\n",
       "      <td>False</td>\n",
       "      <td>True</td>\n",
       "      <td>False</td>\n",
       "      <td>False</td>\n",
       "      <td>False</td>\n",
       "      <td>Nissan</td>\n",
       "      <td>Versa</td>\n",
       "      <td>2018</td>\n",
       "      <td>Preto</td>\n",
       "      <td>Gasolina e álcool</td>\n",
       "      <td>1.6</td>\n",
       "      <td>Automática</td>\n",
       "      <td>65000</td>\n",
       "      <td>4</td>\n",
       "    </tr>\n",
       "    <tr>\n",
       "      <th>2011</th>\n",
       "      <td>48800.0</td>\n",
       "      <td>True</td>\n",
       "      <td>True</td>\n",
       "      <td>False</td>\n",
       "      <td>False</td>\n",
       "      <td>False</td>\n",
       "      <td>True</td>\n",
       "      <td>False</td>\n",
       "      <td>False</td>\n",
       "      <td>False</td>\n",
       "      <td>Toyota</td>\n",
       "      <td>Corolla</td>\n",
       "      <td>2011</td>\n",
       "      <td>Prateado</td>\n",
       "      <td>Gasolina-Álcool e gás natural</td>\n",
       "      <td>2.0</td>\n",
       "      <td>Automática</td>\n",
       "      <td>65000</td>\n",
       "      <td>4</td>\n",
       "    </tr>\n",
       "    <tr>\n",
       "      <th>2012</th>\n",
       "      <td>54800.0</td>\n",
       "      <td>True</td>\n",
       "      <td>True</td>\n",
       "      <td>False</td>\n",
       "      <td>False</td>\n",
       "      <td>False</td>\n",
       "      <td>True</td>\n",
       "      <td>False</td>\n",
       "      <td>False</td>\n",
       "      <td>False</td>\n",
       "      <td>Volkswagen</td>\n",
       "      <td>Voyage</td>\n",
       "      <td>2019</td>\n",
       "      <td>Prateado</td>\n",
       "      <td>Gasolina e álcool</td>\n",
       "      <td>1.6</td>\n",
       "      <td>Manual</td>\n",
       "      <td>65000</td>\n",
       "      <td>4</td>\n",
       "    </tr>\n",
       "    <tr>\n",
       "      <th>2013</th>\n",
       "      <td>79900.0</td>\n",
       "      <td>False</td>\n",
       "      <td>False</td>\n",
       "      <td>False</td>\n",
       "      <td>False</td>\n",
       "      <td>False</td>\n",
       "      <td>False</td>\n",
       "      <td>False</td>\n",
       "      <td>False</td>\n",
       "      <td>False</td>\n",
       "      <td>Honda</td>\n",
       "      <td>WR-V</td>\n",
       "      <td>2018</td>\n",
       "      <td>Cinza-escuro</td>\n",
       "      <td>Gasolina e álcool</td>\n",
       "      <td>1.5</td>\n",
       "      <td>Automática</td>\n",
       "      <td>65000</td>\n",
       "      <td>5</td>\n",
       "    </tr>\n",
       "    <tr>\n",
       "      <th>2015</th>\n",
       "      <td>23990.0</td>\n",
       "      <td>True</td>\n",
       "      <td>False</td>\n",
       "      <td>False</td>\n",
       "      <td>False</td>\n",
       "      <td>False</td>\n",
       "      <td>False</td>\n",
       "      <td>True</td>\n",
       "      <td>False</td>\n",
       "      <td>False</td>\n",
       "      <td>Fiat</td>\n",
       "      <td>Stilo</td>\n",
       "      <td>2010</td>\n",
       "      <td>Prateado</td>\n",
       "      <td>Gasolina e álcool</td>\n",
       "      <td>1.8</td>\n",
       "      <td>Manual</td>\n",
       "      <td>65000</td>\n",
       "      <td>5</td>\n",
       "    </tr>\n",
       "  </tbody>\n",
       "</table>\n",
       "<p>1577 rows × 19 columns</p>\n",
       "</div>"
      ],
      "text/plain": [
       "        price  com_ipva_pago  aceita_troca  entrega_a_domicilio  unico_dono  \\\n",
       "0    156990.0           True          True                False       False   \n",
       "1     85990.0          False          True                False       False   \n",
       "2     53990.0          False          True                False       False   \n",
       "4     85990.0          False          True                False       False   \n",
       "5    103890.0          False          True                False       False   \n",
       "...       ...            ...           ...                  ...         ...   \n",
       "2009  66990.0           True          True                False       False   \n",
       "2011  48800.0           True          True                False       False   \n",
       "2012  54800.0           True          True                False       False   \n",
       "2013  79900.0          False         False                False       False   \n",
       "2015  23990.0           True         False                False       False   \n",
       "\n",
       "      com_preco_negociavel  higienizacao_completa  nao_aceita_troca  \\\n",
       "0                    False                  False             False   \n",
       "1                    False                   True             False   \n",
       "2                    False                  False             False   \n",
       "4                    False                   True             False   \n",
       "5                    False                  False             False   \n",
       "...                    ...                    ...               ...   \n",
       "2009                 False                   True             False   \n",
       "2011                 False                   True             False   \n",
       "2012                 False                   True             False   \n",
       "2013                 False                  False             False   \n",
       "2015                 False                  False              True   \n",
       "\n",
       "      com_garantia_mecanica  test_drive_a_domicilio       marca    modelo  \\\n",
       "0                     False                   False     Hyundai    Tucson   \n",
       "1                     False                   False   Chevrolet      Onix   \n",
       "2                     False                   False        Ford        Ka   \n",
       "4                     False                   False        Jeep  Renegade   \n",
       "5                     False                   False        Jeep   Compass   \n",
       "...                     ...                     ...         ...       ...   \n",
       "2009                  False                   False      Nissan     Versa   \n",
       "2011                  False                   False      Toyota   Corolla   \n",
       "2012                  False                   False  Volkswagen    Voyage   \n",
       "2013                  False                   False       Honda      WR-V   \n",
       "2015                  False                   False        Fiat     Stilo   \n",
       "\n",
       "       ano           cor            tipo_de_combustivel motor  \\\n",
       "0     2020        Branco                       Gasolina   1.6   \n",
       "1     2023  Cinza-escuro              Gasolina e álcool   1.0   \n",
       "2     2018        Branco              Gasolina e álcool   1.0   \n",
       "4     2018  Cinza-escuro              Gasolina e álcool   1.8   \n",
       "5     2017      Prateado              Gasolina e álcool   2.0   \n",
       "...    ...           ...                            ...   ...   \n",
       "2009  2018         Preto              Gasolina e álcool   1.6   \n",
       "2011  2011      Prateado  Gasolina-Álcool e gás natural   2.0   \n",
       "2012  2019      Prateado              Gasolina e álcool   1.6   \n",
       "2013  2018  Cinza-escuro              Gasolina e álcool   1.5   \n",
       "2015  2010      Prateado              Gasolina e álcool   1.8   \n",
       "\n",
       "     tipo_de_transmissao  quilometros  portas  \n",
       "0             Automática        35000       4  \n",
       "1                 Manual        65000       4  \n",
       "2                 Manual        65000       4  \n",
       "4             Automática        65000       4  \n",
       "5             Automática        65000       4  \n",
       "...                  ...          ...     ...  \n",
       "2009          Automática        65000       4  \n",
       "2011          Automática        65000       4  \n",
       "2012              Manual        65000       4  \n",
       "2013          Automática        65000       5  \n",
       "2015              Manual        65000       5  \n",
       "\n",
       "[1577 rows x 19 columns]"
      ]
     },
     "execution_count": 44,
     "metadata": {},
     "output_type": "execute_result"
    }
   ],
   "source": [
    "df"
   ]
  },
  {
   "cell_type": "code",
   "execution_count": 36,
   "id": "d3007ed4",
   "metadata": {},
   "outputs": [
    {
     "data": {
      "text/plain": [
       "array([ 35000.,  65000., 150000.,  49000.,  11590., 143000.,  24200.,\n",
       "        44700., 168000., 113653.,  11000., 145000.,      0., 138594.,\n",
       "       118500.,  84793.,  50800., 109376.,  48609.,  55998., 144000.,\n",
       "       110340.,  71000.,  32590., 118764.,  80045.,  26000.,  59734.,\n",
       "        76495.,  38474., 101000.,  27500.,  16000.,  91000.,  11775.,\n",
       "        30000.,  14578.,  16535.,  90300.,  15000.,  55415.,  48000.,\n",
       "        70000.,  62000.,   2300.,  46000.,  90000.,  31549.,  93000.,\n",
       "       108000.,  34770., 127000.,  70326., 110351., 149000.,  49884.,\n",
       "        38000.,  51349.,  50084.,  92000., 129000.,  77136.,  52270.,\n",
       "        70342.,  28000.,  49658., 166995., 185359.,  56000.,  78219.,\n",
       "        60000.])"
      ]
     },
     "execution_count": 36,
     "metadata": {},
     "output_type": "execute_result"
    }
   ],
   "source": [
    "(df['quilometros']).unique()"
   ]
  },
  {
   "cell_type": "code",
   "execution_count": 37,
   "id": "65d97137",
   "metadata": {},
   "outputs": [],
   "source": [
    "df['motor'] = df['motor'].astype('object')"
   ]
  },
  {
   "cell_type": "code",
   "execution_count": 38,
   "id": "37f887d3",
   "metadata": {},
   "outputs": [],
   "source": [
    "df['portas'] = df['portas'].astype('int64')"
   ]
  },
  {
   "cell_type": "code",
   "execution_count": 39,
   "id": "7576f5e6",
   "metadata": {},
   "outputs": [],
   "source": [
    "df['quilometros'] = df['quilometros'].astype('int64')"
   ]
  },
  {
   "cell_type": "code",
   "execution_count": 40,
   "id": "ad5e892b",
   "metadata": {
    "scrolled": true
   },
   "outputs": [
    {
     "data": {
      "text/plain": [
       "price                     float64\n",
       "com_ipva_pago                bool\n",
       "aceita_troca                 bool\n",
       "entrega_a_domicilio          bool\n",
       "unico_dono                   bool\n",
       "com_preco_negociavel         bool\n",
       "higienizacao_completa        bool\n",
       "nao_aceita_troca             bool\n",
       "com_garantia_mecanica        bool\n",
       "test_drive_a_domicilio       bool\n",
       "marca                      object\n",
       "modelo                     object\n",
       "ano                        object\n",
       "cor                        object\n",
       "tipo_de_combustivel        object\n",
       "motor                      object\n",
       "tipo_de_transmissao        object\n",
       "quilometros                 int64\n",
       "portas                      int64\n",
       "dtype: object"
      ]
     },
     "execution_count": 40,
     "metadata": {},
     "output_type": "execute_result"
    }
   ],
   "source": [
    "df.dtypes"
   ]
  },
  {
   "cell_type": "code",
   "execution_count": 23,
   "id": "f4dcf6e1",
   "metadata": {},
   "outputs": [],
   "source": [
    "df.to_csv('df.csv',index='False')"
   ]
  },
  {
   "cell_type": "code",
   "execution_count": 24,
   "id": "a035b8bb",
   "metadata": {},
   "outputs": [],
   "source": [
    "df = pd.read_csv('df.csv')"
   ]
  },
  {
   "cell_type": "code",
   "execution_count": 25,
   "id": "14bd9415",
   "metadata": {},
   "outputs": [],
   "source": [
    "df = pd.DataFrame(df)"
   ]
  },
  {
   "cell_type": "code",
   "execution_count": 26,
   "id": "c81da71a",
   "metadata": {},
   "outputs": [],
   "source": [
    "df.rename(columns={'Unnamed: 0': 'carros_id'}, inplace=True)\n"
   ]
  },
  {
   "cell_type": "code",
   "execution_count": 45,
   "id": "2ee19a27",
   "metadata": {},
   "outputs": [
    {
     "data": {
      "text/plain": [
       "array(['Tucson', 'Onix', 'Ka', 'Renegade', 'Compass', 'HB20', 'Corolla',\n",
       "       'Strada', 'Master', 'Toro', 'Up!', 'Voyage', 'Uno', 'Mobi', 'Idea',\n",
       "       'Celta', 'S-10', 'HB20S', 'Sandero', 'Spacefox', 'Palio Adventure',\n",
       "       'Argo', 'Yaris', 'Golf', 'Fox', 'Gol', 'Cross Up', 'Polo',\n",
       "       'Tiguan', 'New Beetle', 'Crossfox', 'Fusca', 'Santana', 'HR',\n",
       "       'Fiesta', 'Polo Hatch', 'Jetta', 'Virtus', 'Nivus', 'Taos',\n",
       "       'T-Cross', 'Express', 'Amarok', 'Sportage', 'RAV4', 'Sprinter Van',\n",
       "       'Range Rover Evoque', 'Cayenne', 'AmarokMLB1744', 'Corolla Cross',\n",
       "       'Creta', 'Saveiro', 'Gol MC4', 'Kombi', 'Polo Sedan',\n",
       "       'Outros Modelos', 'Kombi FurgãO', 'Fiorino', 'Daily Chasis',\n",
       "       'Civic', 'Captur', 'Toro Ranch', 'Q5', 'Ducato', 'Punto', 'SW4',\n",
       "       'Daily', 'Sprinter Vidrado', 'IX35', 'Focus', 'Zafira', 'Palio',\n",
       "       'MASTER FURGAO L1H1', 'Master FurgãO', 'Tracker', 'ASX', 'GLA 250',\n",
       "       'Q3', 'Duster', 'XC60', 'Cronos', 'I30', 'Stilo', 'S10', 'C 180',\n",
       "       'Duster Oroch', 'X2', '206', '308', 'Classe C',\n",
       "       'Range Rover Velar', 'HR-V', 'Spin', 'Tiida', 'City', 'Kwid',\n",
       "       'Cooper', 'Fusion', 'Soul', '2008', 'Fit', 'Ecosport', 'Versa',\n",
       "       'C3', '207', 'J6', 'Pajero TR4', 'Q8', 'Freemont', 'Classe GLA',\n",
       "       'Outlander', 'Picanto', 'Xsara Picasso', 'Cobalt', 'L200', '500',\n",
       "       'Tiggo 5X', 'Logan', 'SX4', 'STONIC', 'Corsa', 'Sentra',\n",
       "       'Veloster', 'Ranger', 'Montana', 'Jimny', 'Hilux', '911',\n",
       "       'MOBI LIKE 1.0 FLEX 4P', 'PalioMLB1744', 'C 250', 'Chevy 500',\n",
       "       'Hilux SW4', 'X1', 'Etios', 'Cruze', 'Equinox', 'Vitara', 'Rs Q8',\n",
       "       'Tiggo 8', 'A4', 'Pajero Sport', 'Tracker Premier', 'Discovery',\n",
       "       'CR-V LX', '118i', 'HB20X', 'Frontier', 'Pajero Full', 'Jumpy',\n",
       "       'Elantra', '208', 'XC90', 'Kicks', 'Impreza', 'Santa Fe',\n",
       "       'FASTBACK', 'Classic', 'Pulse', 'Novo HB20', '330E', 'Countryman',\n",
       "       'Mustang', 'Meriva', 'Macan', 'Eclipse Cross', 'Corsa Hatch',\n",
       "       'Classe B', 'C 200', 'X3', 'X60', 'Niro', 'Fiesta Sedan',\n",
       "       'C4 Cactus', '430I', 'Sprinter Chassi', 'Tiggo 3X', 'GLA 200',\n",
       "       'Siena', 'F-PACE', '320I', '408', 'Passat', 'Siena Essence', 'A3',\n",
       "       'Agile', 'Serie 2', 'C4', 'X5', 'Livina XGEAR', 'X6', 'HR-V EX',\n",
       "       'Corsa Classic', 'March', '1500', '307', 'DUSTER EXPRESSION',\n",
       "       'Ecosport TIT', 'Onix Hatch', 'Tiggo 2', 'E 63 AMG',\n",
       "       'Discovery sport', 'L200 TRITON', 'Sentra SV', 'Gallardo',\n",
       "       'Ka Hatch', 'Clubman', '320i', 'VERSA 10', 'Carnival',\n",
       "       'Grand Siena', 'WRANGLER SPT', 'XE', 'Z4', 'Livina', '308 CC',\n",
       "       'Astra Sedan', 'Prisma', 'Ram 2500', 'Sorento', 'M5', 'A6',\n",
       "       'Vectra', 'Joy', 'A5', 'Grand Vitara', 'GLK 220', 'A3 Sedan',\n",
       "       'Commander', '3008', 'F-250', 'TIIDA', 'Tiggo', 'CR-V', 'Astra',\n",
       "       'Logan Expression', 'Ducato Maxicargo', 'Golf Variant', 'Aircross',\n",
       "       'Doblo', '328i', 'DS4', 'Onix plus', 'Tiguan Allspace', 'Sonic',\n",
       "       'C3 Picasso', 'Wr-V', 'Bravo', 'Symbol', 'WR-V', 'Megane',\n",
       "       'Doblo Cargo', 'Sandero Stepway', '220i', 'Space Cross', 'Fluence',\n",
       "       'Megane Grand Tour', 'T40'], dtype=object)"
      ]
     },
     "execution_count": 45,
     "metadata": {},
     "output_type": "execute_result"
    }
   ],
   "source": [
    "df['modelo'].unique()"
   ]
  },
  {
   "cell_type": "code",
   "execution_count": 17,
   "id": "fcf57462",
   "metadata": {},
   "outputs": [],
   "source": []
  },
  {
   "cell_type": "code",
   "execution_count": null,
   "id": "629bac04",
   "metadata": {},
   "outputs": [],
   "source": []
  },
  {
   "cell_type": "code",
   "execution_count": null,
   "id": "a0a5a41e",
   "metadata": {},
   "outputs": [],
   "source": []
  }
 ],
 "metadata": {
  "kernelspec": {
   "display_name": "Python 3 (ipykernel)",
   "language": "python",
   "name": "python3"
  },
  "language_info": {
   "codemirror_mode": {
    "name": "ipython",
    "version": 3
   },
   "file_extension": ".py",
   "mimetype": "text/x-python",
   "name": "python",
   "nbconvert_exporter": "python",
   "pygments_lexer": "ipython3",
   "version": "3.7.4"
  }
 },
 "nbformat": 4,
 "nbformat_minor": 5
}
